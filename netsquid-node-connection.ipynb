{
 "cells": [
  {
   "cell_type": "markdown",
   "metadata": {},
   "source": [
    "**Node**"
   ]
  },
  {
   "cell_type": "code",
   "execution_count": 1,
   "metadata": {},
   "outputs": [],
   "source": [
    "from netsquid.nodes import Node\n",
    "alice = Node(\"Alice\")"
   ]
  },
  {
   "cell_type": "code",
   "execution_count": 2,
   "metadata": {},
   "outputs": [
    {
     "data": {
      "text/plain": [
       "QuantumMemory(name='AliceMemory')"
      ]
     },
     "execution_count": 2,
     "metadata": {},
     "output_type": "execute_result"
    }
   ],
   "source": [
    "from netsquid.components import QuantumMemory\n",
    "qmemory = QuantumMemory(\"AliceMemory\", num_positions=2)\n",
    "alice.add_subcomponent(qmemory, name=\"memory1\")\n",
    "alice.subcomponents[\"memory1\"]"
   ]
  },
  {
   "cell_type": "code",
   "execution_count": 3,
   "metadata": {},
   "outputs": [
    {
     "data": {
      "text/plain": [
       "True"
      ]
     },
     "execution_count": 3,
     "metadata": {},
     "output_type": "execute_result"
    }
   ],
   "source": [
    "alice.subcomponents\n",
    "qmemory.supercomponent\n",
    "alice.supercomponent is None"
   ]
  },
  {
   "cell_type": "code",
   "execution_count": 4,
   "metadata": {},
   "outputs": [
    {
     "data": {
      "text/plain": [
       "ConstrainedMap({'BobMemory': QuantumMemory(name='BobMemory')})"
      ]
     },
     "execution_count": 4,
     "metadata": {},
     "output_type": "execute_result"
    }
   ],
   "source": [
    "qmemory = QuantumMemory(\"BobMemory\", num_positions=2)\n",
    "bob = Node(\"Bob\", qmemory=qmemory)\n",
    "bob.qmemory\n",
    "bob.subcomponents"
   ]
  },
  {
   "cell_type": "code",
   "execution_count": 5,
   "metadata": {},
   "outputs": [],
   "source": [
    "alice.add_ports(['qin_charlie'])\n",
    "alice.ports['qin_charlie'].forward_input(alice.qmemory.ports['qin'])"
   ]
  },
  {
   "cell_type": "markdown",
   "metadata": {},
   "source": [
    "**Connections**"
   ]
  },
  {
   "cell_type": "code",
   "execution_count": 6,
   "metadata": {},
   "outputs": [],
   "source": [
    "from netsquid.nodes.connections import Connection\n",
    "from netsquid.components import ClassicalChannel\n",
    "from netsquid.components.models import FibreDelayModel\n",
    "\n",
    "class ClassicalConnection(Connection):\n",
    "    def __init__(self, length):\n",
    "        super().__init__(name=\"ClassicalConnection\")\n",
    "        self.add_subcomponent(ClassicalChannel(\"Channel_A2B\", length=length,\n",
    "            models={\"delay_model\": FibreDelayModel()}))\n",
    "        self.ports['A'].forward_input(\n",
    "            self.subcomponents[\"Channel_A2B\"].ports['send'])\n",
    "        self.subcomponents[\"Channel_A2B\"].ports['recv'].forward_output(\n",
    "            self.ports['B'])"
   ]
  },
  {
   "cell_type": "code",
   "execution_count": 7,
   "metadata": {},
   "outputs": [],
   "source": [
    "cconnection = Connection(\"ClassicalConnection\")\n",
    "cchannel = ClassicalChannel(\"Channel_A2B\")\n",
    "cconnection.add_subcomponent(cchannel,\n",
    "                             forward_input=[(\"A\", \"send\")],\n",
    "                             forward_output=[(\"B\", \"recv\")])"
   ]
  },
  {
   "cell_type": "markdown",
   "metadata": {},
   "source": [
    "**An entangling connection for teleportation**"
   ]
  },
  {
   "cell_type": "code",
   "execution_count": 8,
   "metadata": {},
   "outputs": [],
   "source": [
    "from netsquid.components.qchannel import QuantumChannel\n",
    "from netsquid.qubits import StateSampler\n",
    "from netsquid.components.qsource import QSource, SourceStatus\n",
    "from netsquid.components.models import FixedDelayModel, DepolarNoiseModel\n",
    "import netsquid.qubits.ketstates as ks\n",
    "\n",
    "\n",
    "class EntanglingConnection(Connection):\n",
    "    def __init__(self, length, source_frequency):\n",
    "        super().__init__(name=\"EntanglingConnection\")\n",
    "        timing_model = FixedDelayModel(delay=(1e9 / source_frequency))\n",
    "        qsource = QSource(\"qsource\", StateSampler([ks.b00], [1.0]), num_ports=2,\n",
    "                          timing_model=timing_model,\n",
    "                          status=SourceStatus.INTERNAL)\n",
    "        self.add_subcomponent(qsource)\n",
    "        qchannel_c2a = QuantumChannel(\"qchannel_C2A\", length=length / 2,\n",
    "                                      models={\"delay_model\": FibreDelayModel()})\n",
    "        qchannel_c2b = QuantumChannel(\"qchannel_C2B\", length=length / 2,\n",
    "                                      models={\"delay_model\": FibreDelayModel()})\n",
    "        # Add channels and forward quantum channel output to external port output:\n",
    "        self.add_subcomponent(qchannel_c2a, forward_output=[(\"A\", \"recv\")])\n",
    "        self.add_subcomponent(qchannel_c2b, forward_output=[(\"B\", \"recv\")])\n",
    "        # Connect qsource output to quantum channel input:\n",
    "        qsource.ports[\"qout0\"].connect(qchannel_c2a.ports[\"send\"])\n",
    "        qsource.ports[\"qout1\"].connect(qchannel_c2b.ports[\"send\"])"
   ]
  },
  {
   "cell_type": "code",
   "execution_count": 9,
   "metadata": {},
   "outputs": [],
   "source": [
    "def example_network_setup(node_distance=4e-3, depolar_rate=1e7):\n",
    "    # Setup nodes Alice and Bob with quantum memories:\n",
    "    noise_model = DepolarNoiseModel(depolar_rate=depolar_rate)\n",
    "    alice = Node(\n",
    "        \"Alice\", port_names=['qin_charlie', 'cout_bob'],\n",
    "        qmemory=QuantumMemory(\"AliceMemory\", num_positions=2,\n",
    "                              memory_noise_models=[noise_model] * 2))\n",
    "    alice.ports['qin_charlie'].forward_input(alice.qmemory.ports['qin1'])\n",
    "    bob = Node(\n",
    "        \"Bob\", port_names=['qin_charlie', 'cin_alice'],\n",
    "        qmemory=QuantumMemory(\"BobMemory\", num_positions=1,\n",
    "                              memory_noise_models=[noise_model]))\n",
    "    bob.ports['qin_charlie'].forward_input(bob.qmemory.ports['qin0'])\n",
    "    # Setup classical connection between nodes:\n",
    "    c_conn = ClassicalConnection(length=node_distance)\n",
    "    alice.ports['cout_bob'].connect(c_conn.ports['A'])\n",
    "    bob.ports['cin_alice'].connect(c_conn.ports['B'])\n",
    "    # Setup entangling connection between nodes:\n",
    "    q_conn = EntanglingConnection(length=node_distance, source_frequency=2e7)\n",
    "    alice.ports['qin_charlie'].connect(q_conn.ports['A'])\n",
    "    bob.ports['qin_charlie'].connect(q_conn.ports['B'])\n",
    "    return alice, bob, q_conn, c_conn"
   ]
  },
  {
   "cell_type": "code",
   "execution_count": 11,
   "metadata": {},
   "outputs": [
    {
     "data": {
      "text/plain": [
       "(Qubit('qsource-#1-0'), Qubit('qsource-#1-1'))"
      ]
     },
     "execution_count": 11,
     "metadata": {},
     "output_type": "execute_result"
    }
   ],
   "source": [
    "import netsquid as ns\n",
    "ns.set_qstate_formalism(ns.QFormalism.DM)\n",
    "alice, bob, *_ = example_network_setup()\n",
    "stats = ns.sim_run(15)\n",
    "qA, = alice.qmemory.peek(positions=[1])\n",
    "qB, = bob.qmemory.peek(positions=[0])\n",
    "qA, qB"
   ]
  },
  {
   "cell_type": "code",
   "execution_count": 12,
   "metadata": {},
   "outputs": [
    {
     "name": "stdout",
     "output_type": "stream",
     "text": [
      "Entangled fidelity (after 5 ns wait) = 0.964\n"
     ]
    }
   ],
   "source": [
    "fidelity = ns.qubits.fidelity([qA, qB], ns.b00)\n",
    "print(f\"Entangled fidelity (after 5 ns wait) = {fidelity:.3f}\")"
   ]
  }
 ],
 "metadata": {
  "interpreter": {
   "hash": "d025f1cedad86bfd4b49b0be37829d2c250d802656fd99c332a63deeb0d48143"
  },
  "kernelspec": {
   "display_name": "Python 3.9.7 ('base')",
   "language": "python",
   "name": "python3"
  },
  "language_info": {
   "codemirror_mode": {
    "name": "ipython",
    "version": 3
   },
   "file_extension": ".py",
   "mimetype": "text/x-python",
   "name": "python",
   "nbconvert_exporter": "python",
   "pygments_lexer": "ipython3",
   "version": "3.9.7"
  },
  "orig_nbformat": 4
 },
 "nbformat": 4,
 "nbformat_minor": 2
}
