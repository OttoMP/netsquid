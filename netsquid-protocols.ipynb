{
 "cells": [
  {
   "cell_type": "code",
   "execution_count": 1,
   "metadata": {},
   "outputs": [],
   "source": [
    "from netsquid.protocols import Protocol\n",
    "class WaitProtocol(Protocol):\n",
    "    def run(self):\n",
    "        print(f\"Starting protocol at {ns.sim_time()}\")\n",
    "        yield self.await_timer(100)\n",
    "        print(f\"Ending protocol at {ns.sim_time()}\")"
   ]
  },
  {
   "cell_type": "code",
   "execution_count": 3,
   "metadata": {},
   "outputs": [
    {
     "name": "stdout",
     "output_type": "stream",
     "text": [
      "Starting protocol at 0.0\n",
      "Ending protocol at 100.0\n"
     ]
    }
   ],
   "source": [
    "import netsquid as ns\n",
    "ns.sim_reset()\n",
    "protocol = WaitProtocol()\n",
    "protocol.start()\n",
    "stats = ns.sim_run()"
   ]
  },
  {
   "cell_type": "markdown",
   "metadata": {},
   "source": [
    "**The ping pong example using protocols**"
   ]
  },
  {
   "cell_type": "code",
   "execution_count": 4,
   "metadata": {},
   "outputs": [],
   "source": [
    "from netsquid.protocols import NodeProtocol\n",
    "from netsquid.components import QuantumChannel\n",
    "from netsquid.nodes import Node, DirectConnection\n",
    "from netsquid.qubits import qubitapi as qapi\n",
    "\n",
    "\n",
    "class PingProtocol(NodeProtocol):\n",
    "    def run(self):\n",
    "        print(f\"Starting ping at t={ns.sim_time()}\")\n",
    "        port = self.node.ports[\"port_to_channel\"]\n",
    "        qubit, = qapi.create_qubits(1)\n",
    "        port.tx_output(qubit)  # Send qubit to Pong\n",
    "        while True:\n",
    "            # Wait for qubit to be received back\n",
    "            yield self.await_port_input(port)\n",
    "            qubit = port.rx_input().items[0]\n",
    "            m, prob = qapi.measure(qubit, ns.Z)\n",
    "            labels_z =  (\"|0>\", \"|1>\")\n",
    "            print(f\"{ns.sim_time()}: Pong event! {self.node.name} measured \"\n",
    "                  f\"{labels_z[m]} with probability {prob:.2f}\")\n",
    "            port.tx_output(qubit)  # Send qubit to B\n",
    "\n",
    "\n",
    "class PongProtocol(NodeProtocol):\n",
    "    def run(self):\n",
    "        print(\"Starting pong at t={}\".format(ns.sim_time()))\n",
    "        port = self.node.ports[\"port_to_channel\"]\n",
    "        while True:\n",
    "            yield self.await_port_input(port)\n",
    "            qubit = port.rx_input().items[0]\n",
    "            m, prob = qapi.measure(qubit, ns.X)\n",
    "            labels_x = (\"|+>\", \"|->\")\n",
    "            print(f\"{ns.sim_time()}: Ping event! {self.node.name} measured \"\n",
    "                  f\"{labels_x[m]} with probability {prob:.2f}\")\n",
    "            port.tx_output(qubit)  # send qubit to Ping"
   ]
  },
  {
   "cell_type": "code",
   "execution_count": 5,
   "metadata": {},
   "outputs": [],
   "source": [
    "ns.sim_reset()\n",
    "ns.set_random_state(seed=42)\n",
    "node_ping = Node(\"Ping\", port_names=[\"port_to_channel\"])\n",
    "node_pong = Node(\"Pong\", port_names=[\"port_to_channel\"])\n",
    "connection = DirectConnection(\"Connection\",\n",
    "                              QuantumChannel(\"Channel_LR\", delay=10),\n",
    "                              QuantumChannel(\"Channel_RL\", delay=10))\n",
    "node_ping.ports[\"port_to_channel\"].connect(connection.ports[\"A\"])\n",
    "node_pong.ports[\"port_to_channel\"].connect(connection.ports[\"B\"])\n",
    "ping_protocol = PingProtocol(node_ping)\n",
    "pong_protocol = PongProtocol(node_pong)"
   ]
  },
  {
   "cell_type": "code",
   "execution_count": 6,
   "metadata": {},
   "outputs": [
    {
     "name": "stdout",
     "output_type": "stream",
     "text": [
      "Starting ping at t=0.0\n",
      "Starting pong at t=0.0\n",
      "10.0: Ping event! Pong measured |+> with probability 0.50\n",
      "20.0: Pong event! Ping measured |1> with probability 0.50\n",
      "30.0: Ping event! Pong measured |-> with probability 0.50\n",
      "40.0: Pong event! Ping measured |1> with probability 0.50\n",
      "50.0: Ping event! Pong measured |+> with probability 0.50\n",
      "60.0: Pong event! Ping measured |0> with probability 0.50\n",
      "70.0: Ping event! Pong measured |+> with probability 0.50\n",
      "80.0: Pong event! Ping measured |1> with probability 0.50\n",
      "90.0: Ping event! Pong measured |-> with probability 0.50\n"
     ]
    }
   ],
   "source": [
    "ping_protocol.start()\n",
    "pong_protocol.start()\n",
    "stats = ns.sim_run(91)"
   ]
  },
  {
   "cell_type": "code",
   "execution_count": 7,
   "metadata": {},
   "outputs": [
    {
     "name": "stdout",
     "output_type": "stream",
     "text": [
      "100.0: Pong event! Ping measured |1> with probability 0.50\n"
     ]
    }
   ],
   "source": [
    "pong_protocol.stop()\n",
    "stats = ns.sim_run()"
   ]
  },
  {
   "cell_type": "code",
   "execution_count": 8,
   "metadata": {},
   "outputs": [
    {
     "name": "stdout",
     "output_type": "stream",
     "text": [
      "Starting pong at t=110.0\n"
     ]
    }
   ],
   "source": [
    "pong_protocol.start()\n",
    "stats = ns.sim_run()"
   ]
  },
  {
   "cell_type": "code",
   "execution_count": 9,
   "metadata": {},
   "outputs": [
    {
     "name": "stdout",
     "output_type": "stream",
     "text": [
      "Starting ping at t=110.0\n",
      "120.0: Ping event! Pong measured |+> with probability 0.50\n",
      "130.0: Pong event! Ping measured |1> with probability 0.50\n",
      "140.0: Ping event! Pong measured |-> with probability 0.50\n",
      "150.0: Pong event! Ping measured |0> with probability 0.50\n",
      "160.0: Ping event! Pong measured |+> with probability 0.50\n"
     ]
    }
   ],
   "source": [
    "ping_protocol.reset()\n",
    "stats = ns.sim_run(duration=51)"
   ]
  },
  {
   "cell_type": "markdown",
   "metadata": {},
   "source": [
    "**The teleportation example using protocols**"
   ]
  },
  {
   "cell_type": "code",
   "execution_count": 10,
   "metadata": {},
   "outputs": [],
   "source": [
    "from netsquid.protocols import NodeProtocol, Signals\n",
    "\n",
    "class InitStateProtocol(NodeProtocol):\n",
    "    def run(self):\n",
    "        qubit, = qapi.create_qubits(1)\n",
    "        mem_pos = self.node.qmemory.unused_positions[0]\n",
    "        self.node.qmemory.put(qubit, mem_pos)\n",
    "        self.node.qmemory.operate(ns.H, mem_pos)\n",
    "        self.node.qmemory.operate(ns.S, mem_pos)\n",
    "        self.send_signal(signal_label=Signals.SUCCESS, result=mem_pos)"
   ]
  },
  {
   "cell_type": "code",
   "execution_count": 11,
   "metadata": {},
   "outputs": [],
   "source": [
    "from pydynaa import EventExpression\n",
    "\n",
    "class BellMeasurementProtocol(NodeProtocol):\n",
    "    def __init__(self, node, qubit_protocol):\n",
    "        super().__init__(node)\n",
    "        self.add_subprotocol(qubit_protocol, 'qprotocol')\n",
    "\n",
    "    def run(self):\n",
    "        qubit_initialised = False\n",
    "        entanglement_ready = False\n",
    "        while True:\n",
    "            evexpr_signal = self.await_signal(\n",
    "                sender=self.subprotocols['qprotocol'],\n",
    "                signal_label=Signals.SUCCESS)\n",
    "            evexpr_port = self.await_port_input(self.node.ports[\"qin_charlie\"])\n",
    "            expression = yield evexpr_signal | evexpr_port\n",
    "            if expression.first_term.value:\n",
    "                 # First expression was triggered\n",
    "                qubit_initialised = True\n",
    "            else:\n",
    "                # Second expression was triggered\n",
    "                entanglement_ready = True\n",
    "            if qubit_initialised and entanglement_ready:\n",
    "                # Perform Bell measurement:\n",
    "                self.node.qmemory.operate(ns.CNOT, [0, 1])\n",
    "                self.node.qmemory.operate(ns.H, 0)\n",
    "                m, _ = self.node.qmemory.measure([0, 1])\n",
    "                # Send measurement results to Bob:\n",
    "                self.node.ports[\"cout_bob\"].tx_output(m)\n",
    "                self.send_signal(Signals.SUCCESS)\n",
    "                print(f\"{ns.sim_time():.1f}: Alice received entangled qubit, \"\n",
    "                      f\"measured qubits & sending corrections\")\n",
    "                break\n",
    "\n",
    "    def start(self):\n",
    "        super().start()\n",
    "        self.start_subprotocols()"
   ]
  },
  {
   "cell_type": "code",
   "execution_count": 12,
   "metadata": {},
   "outputs": [],
   "source": [
    "class CorrectionProtocol(NodeProtocol):\n",
    "\n",
    "    def __init__(self, node):\n",
    "        super().__init__(node)\n",
    "\n",
    "    def run(self):\n",
    "        port_alice = self.node.ports[\"cin_alice\"]\n",
    "        port_charlie = self.node.ports[\"qin_charlie\"]\n",
    "        entanglement_ready = False\n",
    "        meas_results = None\n",
    "        while True:\n",
    "            evexpr_port_a = self.await_port_input(port_alice)\n",
    "            evexpr_port_c = self.await_port_input(port_charlie)\n",
    "            expression = yield evexpr_port_a | evexpr_port_c\n",
    "            if expression.first_term.value:\n",
    "                meas_results = port_alice.rx_input().items\n",
    "            else:\n",
    "                entanglement_ready = True\n",
    "            if meas_results is not None and entanglement_ready:\n",
    "                if meas_results[0]:\n",
    "                    self.node.qmemory.operate(ns.Z, 0)\n",
    "                if meas_results[1]:\n",
    "                    self.node.qmemory.operate(ns.X, 0)\n",
    "                self.send_signal(Signals.SUCCESS, 0)\n",
    "                fidelity = ns.qubits.fidelity(self.node.qmemory.peek(0)[0],\n",
    "                                              ns.y0, squared=True)\n",
    "                print(f\"{ns.sim_time():.1f}: Bob received entangled qubit and \"\n",
    "                      f\"corrections! Fidelity = {fidelity:.3f}\")\n",
    "                break"
   ]
  },
  {
   "cell_type": "code",
   "execution_count": 13,
   "metadata": {},
   "outputs": [
    {
     "name": "stdout",
     "output_type": "stream",
     "text": [
      "10.0: Alice received entangled qubit, measured qubits & sending corrections\n",
      "30.0: Bob received entangled qubit and corrections! Fidelity = 0.870\n"
     ]
    }
   ],
   "source": [
    "from netsquid.examples.teleportation import example_network_setup\n",
    "ns.sim_reset()\n",
    "ns.set_qstate_formalism(ns.QFormalism.DM)\n",
    "ns.set_random_state(seed=42)\n",
    "network = example_network_setup()\n",
    "alice = network.get_node(\"Alice\")\n",
    "bob = network.get_node(\"Bob\")\n",
    "random_state_protocol = InitStateProtocol(alice)\n",
    "bell_measure_protocol = BellMeasurementProtocol(alice, random_state_protocol)\n",
    "correction_protocol = CorrectionProtocol(bob)\n",
    "bell_measure_protocol.start()\n",
    "correction_protocol.start()\n",
    "stats = ns.sim_run(100)"
   ]
  }
 ],
 "metadata": {
  "interpreter": {
   "hash": "d025f1cedad86bfd4b49b0be37829d2c250d802656fd99c332a63deeb0d48143"
  },
  "kernelspec": {
   "display_name": "Python 3.9.7 ('base')",
   "language": "python",
   "name": "python3"
  },
  "language_info": {
   "codemirror_mode": {
    "name": "ipython",
    "version": 3
   },
   "file_extension": ".py",
   "mimetype": "text/x-python",
   "name": "python",
   "nbconvert_exporter": "python",
   "pygments_lexer": "ipython3",
   "version": "3.9.7"
  },
  "orig_nbformat": 4
 },
 "nbformat": 4,
 "nbformat_minor": 2
}
